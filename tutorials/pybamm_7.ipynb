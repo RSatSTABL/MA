{
 "cells": [
  {
   "cell_type": "markdown",
   "id": "03ffb759",
   "metadata": {},
   "source": [
    "# Tutorial 6 - Managing simulation outputs"
   ]
  },
  {
   "cell_type": "markdown",
   "id": "99ca374a",
   "metadata": {},
   "source": [
    "In the previous tutorials we have interacted with the outputs of the simulation via the default plotting functionality. However, usually we need to access the output data to manipulate it or transfer to another software, which is the topic of this notebook.\n",
    "\n",
    "We start by building and solving our model as shown in previous notebooks:"
   ]
  },
  {
   "cell_type": "code",
   "execution_count": 2,
   "id": "15039154",
   "metadata": {},
   "outputs": [
    {
     "name": "stderr",
     "output_type": "stream",
     "text": [
      "c:\\Users\\RamonSchindler\\miniconda3\\envs\\pybamm_env\\lib\\site-packages\\pybamm\\simulation.py:120: UserWarning: The default solver changed to IDAKLUSolver after the v25.4.0. release. You can swap back to the previous default by using `pybamm.CasadiSolver()` instead.\n",
      "  self._solver = solver or self._model.default_solver\n"
     ]
    },
    {
     "data": {
      "text/plain": [
       "<pybamm.solvers.solution.Solution at 0x2dd4a3bcbe0>"
      ]
     },
     "execution_count": 2,
     "metadata": {},
     "output_type": "execute_result"
    }
   ],
   "source": [
    "import pybamm\n",
    "\n",
    "model = pybamm.lithium_ion.SPMe()\n",
    "sim = pybamm.Simulation(model)\n",
    "sim.solve([0, 3600])"
   ]
  },
  {
   "cell_type": "markdown",
   "id": "16ddff5f",
   "metadata": {},
   "source": [
    "## Accesing solution variables"
   ]
  },
  {
   "cell_type": "markdown",
   "id": "22fe4f51",
   "metadata": {},
   "source": [
    "We can now access the solved variables directly to visualize or create our own pots. We first extract the solution object:"
   ]
  },
  {
   "cell_type": "code",
   "execution_count": 3,
   "id": "96f9aa5b",
   "metadata": {},
   "outputs": [],
   "source": [
    "solution = sim.solution"
   ]
  },
  {
   "cell_type": "markdown",
   "id": "b1f3d4ae",
   "metadata": {},
   "source": [
    "Note that the solution object is also returned when calling the solve method, so this can be streamlined by running."
   ]
  },
  {
   "cell_type": "code",
   "execution_count": 4,
   "id": "a2f1ea0b",
   "metadata": {},
   "outputs": [],
   "source": [
    "solution = sim.solve([0, 3600])"
   ]
  },
  {
   "cell_type": "markdown",
   "id": "7235f583",
   "metadata": {},
   "source": [
    "when solving our simulation. Once we have the solution, we can define post-processed variable for the relevant variables:"
   ]
  },
  {
   "cell_type": "code",
   "execution_count": 5,
   "id": "1011ce42",
   "metadata": {},
   "outputs": [],
   "source": [
    "t = solution[\"Time [s]\"]\n",
    "V = solution[\"Voltage [V]\"]"
   ]
  },
  {
   "cell_type": "markdown",
   "id": "797dc9a2",
   "metadata": {},
   "source": [
    "(for a list of all the available variables see Tutorial 3). These ProcessedVariable objects contain the datapoints for the corresponding variable, which can be accessed by calling the entries variable. For example, for voltage, we can call"
   ]
  },
  {
   "cell_type": "code",
   "execution_count": 6,
   "id": "c194ac51",
   "metadata": {},
   "outputs": [
    {
     "data": {
      "text/plain": [
       "array([3.77057396, 3.77055358, 3.77053333, 3.7704931 , 3.77041403,\n",
       "       3.7702603 , 3.76997849, 3.76971335, 3.76923473, 3.76879676,\n",
       "       3.76839135, 3.76763934, 3.76696517, 3.7657705 , 3.76482861,\n",
       "       3.76396994, 3.76317298, 3.76242499, 3.76105167, 3.75980242,\n",
       "       3.75865012, 3.75758225, 3.75659013, 3.75479647, 3.7532074 ,\n",
       "       3.75177811, 3.75047724, 3.74928148, 3.74817179, 3.74713337,\n",
       "       3.74522275, 3.74364749, 3.74187167, 3.74036101, 3.73891052,\n",
       "       3.73750368, 3.73613075, 3.73478468, 3.73346097, 3.73086618,\n",
       "       3.7283324 , 3.72584895, 3.7210167 , 3.71687343, 3.7128573 ,\n",
       "       3.70897172, 3.70521899, 3.70159986, 3.69476089, 3.68844401,\n",
       "       3.68262899, 3.67728754, 3.6723848 , 3.66372342, 3.65617236,\n",
       "       3.63840595, 3.59767151, 3.48863759, 3.17213165])"
      ]
     },
     "execution_count": 6,
     "metadata": {},
     "output_type": "execute_result"
    }
   ],
   "source": [
    "V.entries"
   ]
  },
  {
   "cell_type": "markdown",
   "id": "60f1312c",
   "metadata": {},
   "source": [
    "which correspond to the data at the times"
   ]
  },
  {
   "cell_type": "code",
   "execution_count": 7,
   "id": "4f0ec446",
   "metadata": {},
   "outputs": [
    {
     "data": {
      "text/plain": [
       "array([0.00000000e+00, 1.23792596e-02, 2.47585193e-02, 4.95170385e-02,\n",
       "       9.90340771e-02, 1.98068154e-01, 3.96136308e-01, 5.94204462e-01,\n",
       "       9.90340771e-01, 1.38647708e+00, 1.78261339e+00, 2.57488600e+00,\n",
       "       3.36715862e+00, 4.95170385e+00, 6.37779456e+00, 7.80388527e+00,\n",
       "       9.22997598e+00, 1.06560667e+01, 1.35082481e+01, 1.63604295e+01,\n",
       "       1.92126109e+01, 2.20647924e+01, 2.49169738e+01, 3.06213366e+01,\n",
       "       3.63256995e+01, 4.20300623e+01, 4.77344251e+01, 5.34387880e+01,\n",
       "       5.91431508e+01, 6.48475137e+01, 7.62562393e+01, 8.65240924e+01,\n",
       "       9.89736408e+01, 1.10178234e+02, 1.21382828e+02, 1.32587421e+02,\n",
       "       1.43792015e+02, 1.54996608e+02, 1.66201202e+02, 1.88610389e+02,\n",
       "       2.11019576e+02, 2.33428763e+02, 2.78247137e+02, 3.17930983e+02,\n",
       "       3.57614829e+02, 3.97298675e+02, 4.36982521e+02, 4.76666368e+02,\n",
       "       5.56034060e+02, 6.35401752e+02, 7.14769445e+02, 7.94137137e+02,\n",
       "       8.73504829e+02, 1.03224021e+03, 1.19097560e+03, 1.50844637e+03,\n",
       "       2.14338791e+03, 3.41327098e+03, 3.60000000e+03])"
      ]
     },
     "execution_count": 7,
     "metadata": {},
     "output_type": "execute_result"
    }
   ],
   "source": [
    "t.entries"
   ]
  },
  {
   "cell_type": "markdown",
   "id": "5f517912",
   "metadata": {},
   "source": [
    "In addition, post-processed variables can be called at any time, which will return the interpolated value from the data above:"
   ]
  },
  {
   "cell_type": "code",
   "execution_count": 8,
   "id": "97e156e6",
   "metadata": {},
   "outputs": [
    {
     "data": {
      "text/plain": [
       "array([3.72957107, 3.70871203, 3.67820577, 3.65411564])"
      ]
     },
     "execution_count": 8,
     "metadata": {},
     "output_type": "execute_result"
    }
   ],
   "source": [
    "V([200, 400, 780, 1236])  # times in seconds"
   ]
  },
  {
   "cell_type": "markdown",
   "id": "ecdc01aa",
   "metadata": {},
   "source": [
    "## Saving the simulation and output data"
   ]
  },
  {
   "cell_type": "markdown",
   "id": "26dbc8db",
   "metadata": {},
   "source": [
    "In some cases simulations might take a long time to run so it is advisable to save in your computer so it can be analysed later without re-running the simulation. You can save the whole simulation doing:"
   ]
  },
  {
   "cell_type": "code",
   "execution_count": 9,
   "id": "1dd85961",
   "metadata": {},
   "outputs": [],
   "source": [
    "sim.save(\"SPMe.pkl\")"
   ]
  },
  {
   "cell_type": "markdown",
   "id": "abf6070b",
   "metadata": {},
   "source": [
    "If you now check the root directory of your notebooks you will notice that a new file called \"SPMe.pkl\" has appeared. We can load the stored simulation doing"
   ]
  },
  {
   "cell_type": "code",
   "execution_count": 10,
   "id": "09e5c8a9",
   "metadata": {},
   "outputs": [],
   "source": [
    "sim2 = pybamm.load(\"SPMe.pkl\")"
   ]
  },
  {
   "cell_type": "markdown",
   "id": "7be26f6b",
   "metadata": {},
   "source": [
    "which allows the same manipulation as the original simulation would allow"
   ]
  },
  {
   "cell_type": "code",
   "execution_count": 11,
   "id": "5b7af948",
   "metadata": {},
   "outputs": [
    {
     "data": {
      "application/vnd.jupyter.widget-view+json": {
       "model_id": "f2d7fa7a99ee4d8d8f45a7b227777b23",
       "version_major": 2,
       "version_minor": 0
      },
      "text/plain": [
       "interactive(children=(FloatSlider(value=0.0, description='t', max=1.0, step=0.01), Output()), _dom_classes=('w…"
      ]
     },
     "metadata": {},
     "output_type": "display_data"
    },
    {
     "data": {
      "text/plain": [
       "<pybamm.plotting.quick_plot.QuickPlot at 0x2dd182b7820>"
      ]
     },
     "execution_count": 11,
     "metadata": {},
     "output_type": "execute_result"
    }
   ],
   "source": [
    "sim2.plot()"
   ]
  },
  {
   "cell_type": "markdown",
   "id": "520b8393",
   "metadata": {},
   "source": [
    "Alternatively, we can just save the solution of the simulation in a similar way"
   ]
  },
  {
   "cell_type": "code",
   "execution_count": 12,
   "id": "2a3147de",
   "metadata": {},
   "outputs": [],
   "source": [
    "sol = sim.solution\n",
    "sol.save(\"SPMe_sol.pkl\")"
   ]
  },
  {
   "cell_type": "markdown",
   "id": "0d1a2e71",
   "metadata": {},
   "source": [
    "and load it in a similar way too"
   ]
  },
  {
   "cell_type": "code",
   "execution_count": 13,
   "id": "30ee03bf",
   "metadata": {},
   "outputs": [
    {
     "data": {
      "application/vnd.jupyter.widget-view+json": {
       "model_id": "319827ef10554f1192356de36c53c5af",
       "version_major": 2,
       "version_minor": 0
      },
      "text/plain": [
       "interactive(children=(FloatSlider(value=0.0, description='t', max=1.0, step=0.01), Output()), _dom_classes=('w…"
      ]
     },
     "metadata": {},
     "output_type": "display_data"
    },
    {
     "data": {
      "text/plain": [
       "<pybamm.plotting.quick_plot.QuickPlot at 0x2dd18353f40>"
      ]
     },
     "execution_count": 13,
     "metadata": {},
     "output_type": "execute_result"
    }
   ],
   "source": [
    "sol2 = pybamm.load(\"SPMe_sol.pkl\")\n",
    "sol2.plot()"
   ]
  },
  {
   "cell_type": "markdown",
   "id": "51f8e9be",
   "metadata": {},
   "source": [
    "Another option is to just save the data for some variables"
   ]
  },
  {
   "cell_type": "code",
   "execution_count": 14,
   "id": "147389eb",
   "metadata": {},
   "outputs": [],
   "source": [
    "sol.save_data(\"sol_data.pkl\", [\"Current [A]\", \"Voltage [V]\"])"
   ]
  },
  {
   "cell_type": "markdown",
   "id": "de0ab673",
   "metadata": {},
   "source": [
    "or save it in .csv or .mat format"
   ]
  },
  {
   "cell_type": "code",
   "execution_count": 15,
   "id": "c0d55f1d",
   "metadata": {},
   "outputs": [],
   "source": [
    "sol.save_data(\"sol_data.csv\", [\"Current [A]\", \"Voltage [V]\"], to_format=\"csv\")\n",
    "# matlab needs names without spaces\n",
    "sol.save_data(\n",
    "    \"sol_data.mat\",\n",
    "    [\"Current [A]\", \"Voltage [V]\"],\n",
    "    to_format=\"matlab\",\n",
    "    short_names={\"Current [A]\": \"I\", \"Voltage [V]\": \"V\"},\n",
    ")"
   ]
  },
  {
   "cell_type": "markdown",
   "id": "e1cce6bd",
   "metadata": {},
   "source": [
    "Note that while exporting .pkl works for all variables, exporting to .csv and .mat only works for 0D variables (i.e. variables the do not depend on space, only on time).\n",
    "\n",
    "In this notebook we have shown how to extract and store the outputs of PyBaMM's simulations. Next, in Tutorial 7 we will show how to change the model options."
   ]
  },
  {
   "cell_type": "markdown",
   "id": "7a4603d6",
   "metadata": {},
   "source": [
    "Before finishing we will remove the data files we saved so that we leave the directory as we found it"
   ]
  },
  {
   "cell_type": "code",
   "execution_count": 16,
   "id": "957ebaca",
   "metadata": {},
   "outputs": [],
   "source": [
    "import os\n",
    "\n",
    "os.remove(\"SPMe.pkl\")\n",
    "os.remove(\"SPMe_sol.pkl\")\n",
    "os.remove(\"sol_data.pkl\")\n",
    "os.remove(\"sol_data.csv\")\n",
    "os.remove(\"sol_data.mat\")"
   ]
  }
 ],
 "metadata": {
  "kernelspec": {
   "display_name": "pybamm_env",
   "language": "python",
   "name": "python3"
  },
  "language_info": {
   "codemirror_mode": {
    "name": "ipython",
    "version": 3
   },
   "file_extension": ".py",
   "mimetype": "text/x-python",
   "name": "python",
   "nbconvert_exporter": "python",
   "pygments_lexer": "ipython3",
   "version": "3.10.16"
  }
 },
 "nbformat": 4,
 "nbformat_minor": 5
}

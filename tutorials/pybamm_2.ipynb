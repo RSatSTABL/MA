{
 "cells": [
  {
   "cell_type": "markdown",
   "id": "d8da08ef",
   "metadata": {},
   "source": [
    "## Tutorial 2 - Compare Models"
   ]
  },
  {
   "cell_type": "markdown",
   "id": "6ee577d1",
   "metadata": {},
   "source": [
    "In Tutorial 1, we saw how to run a PyBaMM simulation of the DFN model. However, PyBaMM includes other standard electrochemical models such as the Single Particle Model (SPM) and the Single Particle Model with electrolyte (SPMe). In this tutorial, we will see how to simulate and compare these three models."
   ]
  },
  {
   "cell_type": "code",
   "execution_count": 1,
   "id": "f893af9d",
   "metadata": {},
   "outputs": [],
   "source": [
    "import pybamm"
   ]
  },
  {
   "cell_type": "markdown",
   "id": "561915bc",
   "metadata": {},
   "source": [
    "As we want to compare various models, we now create a list of all the models we wish to solve:"
   ]
  },
  {
   "cell_type": "code",
   "execution_count": 2,
   "id": "4f4ea17f",
   "metadata": {},
   "outputs": [],
   "source": [
    "models = [\n",
    "    pybamm.lithium_ion.SPM(),\n",
    "    pybamm.lithium_ion.SPMe(),\n",
    "    pybamm.lithium_ion.DFN(),\n",
    "]"
   ]
  },
  {
   "cell_type": "markdown",
   "id": "a14bc95e",
   "metadata": {},
   "source": [
    "We will loop over the list, creating and solving simulations as we go (in the same way we learned in Tutorial 1), and storing the solved simulations in the list sims:"
   ]
  },
  {
   "cell_type": "code",
   "execution_count": 3,
   "id": "1f41c2e5",
   "metadata": {},
   "outputs": [
    {
     "name": "stderr",
     "output_type": "stream",
     "text": [
      "c:\\Users\\RamonSchindler\\miniconda3\\envs\\pybamm_env\\lib\\site-packages\\pybamm\\simulation.py:120: UserWarning: The default solver changed to IDAKLUSolver after the v25.4.0. release. You can swap back to the previous default by using `pybamm.CasadiSolver()` instead.\n",
      "  self._solver = solver or self._model.default_solver\n"
     ]
    }
   ],
   "source": [
    "sims = []\n",
    "for model in models:\n",
    "    sim = pybamm.Simulation(model)\n",
    "    sim.solve([0, 3600])\n",
    "    sims.append(sim)"
   ]
  },
  {
   "cell_type": "markdown",
   "id": "5679e00a",
   "metadata": {},
   "source": [
    "We can now pass our list of simulations to the dynamic_plot method, which has similar syntax to the sim.plot() method we used earlier and will plot the different solutions in the same figure:"
   ]
  },
  {
   "cell_type": "code",
   "execution_count": 4,
   "id": "cbf7d730",
   "metadata": {},
   "outputs": [
    {
     "data": {
      "application/vnd.jupyter.widget-view+json": {
       "model_id": "3d43182282594f3ca96ca113880c41e9",
       "version_major": 2,
       "version_minor": 0
      },
      "text/plain": [
       "interactive(children=(FloatSlider(value=0.0, description='t', max=1.0, step=0.01), Output()), _dom_classes=('w…"
      ]
     },
     "metadata": {},
     "output_type": "display_data"
    },
    {
     "data": {
      "text/plain": [
       "<pybamm.plotting.quick_plot.QuickPlot at 0x1d67557b160>"
      ]
     },
     "execution_count": 4,
     "metadata": {},
     "output_type": "execute_result"
    }
   ],
   "source": [
    "pybamm.dynamic_plot(sims)"
   ]
  }
 ],
 "metadata": {
  "kernelspec": {
   "display_name": "pybamm_env",
   "language": "python",
   "name": "python3"
  },
  "language_info": {
   "codemirror_mode": {
    "name": "ipython",
    "version": 3
   },
   "file_extension": ".py",
   "mimetype": "text/x-python",
   "name": "python",
   "nbconvert_exporter": "python",
   "pygments_lexer": "ipython3",
   "version": "3.10.16"
  }
 },
 "nbformat": 4,
 "nbformat_minor": 5
}
